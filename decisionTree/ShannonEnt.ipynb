{
 "cells": [
  {
   "cell_type": "code",
   "execution_count": 59,
   "metadata": {},
   "outputs": [],
   "source": [
    "import numpy as np\n",
    "def cancShannonEnt(dataSet):\n",
    "  '''\n",
    "  :param dataSet: dataSet\n",
    "  :return: shannonEnt\n",
    "  '''\n",
    "  # 计算公式前，注意数据的格式(array)\n",
    "  numEntries = len(dataSet)   # 获取数据的行数\n",
    "  labelCounts = { }    # 设置字典数据格式，想要存储的数据格式为：类别：频数\n",
    "  for featVec in dataSet:   # 获取数据集每一行的数据\n",
    "      currentLabel = featVec[-1]   # 获取特征向量的最后一列\n",
    "      # 检查字典中key是否存在\n",
    "      # 如果key不存在\n",
    "      if currentLabel not in labelCounts.keys():\n",
    "          # 将当前的标签存于字典中，并将频数置为0\n",
    "          labelCounts[currentLabel] = 0\n",
    "      # 如果key存在，在当前的键值上+1\n",
    "      labelCounts[currentLabel] +=1\n",
    "\n",
    "  # 数据已准备好，计算熵\n",
    "  print(labelCounts)\n",
    "  shannonEnt = 0.0          # 初始化信息熵\n",
    "  for key in labelCounts:   # 遍历出数据中所的类别\n",
    "      pro = float(labelCounts[key]) /numEntries   \n",
    "      shannonEnt -= pro * np.log2(pro)  # 计算信息熵\n",
    "      #print(pro * np.log2(pro))\n",
    "  return shannonEnt                       # 返回信息熵\n",
    "\n",
    "import pandas as pd\n",
    "\n",
    "data=pd.read_csv(\"watermelon_3a.csv\",header=0)\n",
    "\n",
    "data1=data.values.tolist()\n",
    "#print(data1)\n",
    "cancShannonEnt(data1)"
   ]
  },
  {
   "cell_type": "code",
   "execution_count": 58,
   "metadata": {},
   "outputs": [
    {
     "name": "stdout",
     "output_type": "stream",
     "text": [
      "{1: 8, 0: 9}\n",
      "-0.5117472194119244\n",
      "-0.4857553269571908\n"
     ]
    },
    {
     "data": {
      "text/plain": [
       "0.9975025463691152"
      ]
     },
     "execution_count": 58,
     "metadata": {},
     "output_type": "execute_result"
    }
   ],
   "source": [
    "import pandas as pd\n",
    "\n",
    "data=pd.read_csv(\"watermelon_3a.csv\",header=0)\n",
    "\n",
    "data1=data.values.tolist()\n",
    "print(-(8/18)*np.log2(8/18)-(10/18)*np.log2(10/18))\n",
    "print(data1)\n",
    "cancShannonEnt(data1)"
   ]
  },
  {
   "cell_type": "code",
   "execution_count": null,
   "metadata": {},
   "outputs": [],
   "source": []
  },
  {
   "cell_type": "code",
   "execution_count": null,
   "metadata": {},
   "outputs": [],
   "source": []
  },
  {
   "cell_type": "code",
   "execution_count": null,
   "metadata": {},
   "outputs": [],
   "source": []
  },
  {
   "cell_type": "code",
   "execution_count": null,
   "metadata": {},
   "outputs": [],
   "source": []
  },
  {
   "cell_type": "code",
   "execution_count": null,
   "metadata": {},
   "outputs": [],
   "source": []
  },
  {
   "cell_type": "code",
   "execution_count": null,
   "metadata": {},
   "outputs": [],
   "source": []
  },
  {
   "cell_type": "code",
   "execution_count": null,
   "metadata": {},
   "outputs": [],
   "source": []
  },
  {
   "cell_type": "code",
   "execution_count": null,
   "metadata": {},
   "outputs": [],
   "source": []
  },
  {
   "cell_type": "code",
   "execution_count": null,
   "metadata": {},
   "outputs": [],
   "source": []
  },
  {
   "cell_type": "code",
   "execution_count": null,
   "metadata": {},
   "outputs": [],
   "source": []
  }
 ],
 "metadata": {
  "kernelspec": {
   "display_name": "Python 3",
   "language": "python",
   "name": "python3"
  },
  "language_info": {
   "codemirror_mode": {
    "name": "ipython",
    "version": 3
   },
   "file_extension": ".py",
   "mimetype": "text/x-python",
   "name": "python",
   "nbconvert_exporter": "python",
   "pygments_lexer": "ipython3",
   "version": "3.7.1"
  },
  "toc": {
   "base_numbering": 1,
   "nav_menu": {},
   "number_sections": true,
   "sideBar": true,
   "skip_h1_title": false,
   "title_cell": "Table of Contents",
   "title_sidebar": "Contents",
   "toc_cell": false,
   "toc_position": {},
   "toc_section_display": true,
   "toc_window_display": false
  }
 },
 "nbformat": 4,
 "nbformat_minor": 2
}
